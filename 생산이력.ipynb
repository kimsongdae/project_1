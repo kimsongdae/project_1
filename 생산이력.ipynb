{
  "nbformat": 4,
  "nbformat_minor": 0,
  "metadata": {
    "colab": {
      "name": "생산이력.ipynb",
      "private_outputs": true,
      "provenance": [],
      "collapsed_sections": [],
      "mount_file_id": "1i_iPES9gBevxcq6VzZSK3gRLLsDwcs1A",
      "authorship_tag": "ABX9TyPQndlsVj+wvlusYyB/h/cC",
      "include_colab_link": true
    },
    "kernelspec": {
      "name": "python3",
      "display_name": "Python 3"
    },
    "language_info": {
      "name": "python"
    }
  },
  "cells": [
    {
      "cell_type": "markdown",
      "metadata": {
        "id": "view-in-github",
        "colab_type": "text"
      },
      "source": [
        "<a href=\"https://colab.research.google.com/github/kimsongdae/project_1/blob/master/%EC%83%9D%EC%82%B0%EC%9D%B4%EB%A0%A5.ipynb\" target=\"_parent\"><img src=\"https://colab.research.google.com/assets/colab-badge.svg\" alt=\"Open In Colab\"/></a>"
      ]
    },
    {
      "cell_type": "code",
      "metadata": {
        "id": "ATfVdcBG5hVh"
      },
      "source": [
        "import pandas as pd\n",
        "\n",
        "df = pd.read_excel(\"/content/2021년10월27일.xlsx\")\n",
        "# df.drop(index=2)\n",
        "# df.head(10)\n"
      ],
      "execution_count": null,
      "outputs": []
    },
    {
      "cell_type": "code",
      "metadata": {
        "id": "kd4HEBudOXl9"
      },
      "source": [
        "em=df.groupby(\"품명\")[\"투입수량\"].mean()\n",
        "em.to_excel(\"empty.xlsx\")\n",
        "\n",
        "empty=pd.read_excel(\"empty.xlsx\")\n",
        "# empty = empty.applymap(lambda a:str(a)+\".00\")\n",
        "empty"
      ],
      "execution_count": null,
      "outputs": []
    },
    {
      "cell_type": "code",
      "metadata": {
        "id": "Clch_Ob3X5z9"
      },
      "source": [
        "a=empty.loc[(empty[\"투입수량\"]>1) & (empty['품명']==\"R/RCARR\")]\n",
        "b=empty.loc[(empty[\"투입수량\"]>1) & (empty['품명']==\"F/TCARR\")]\n",
        "\n",
        "RA=a[\"투입수량\"].sum()\n",
        "RB=b[\"투입수량\"].sum()\n",
        "\n",
        "data={\"c\":[1,2],\n",
        "      \"d\":[RA,RB]}\n",
        "dt = pd.DataFrame(data)\n",
        "fa=dt[\"d\"].mean()\n",
        "print(\"R/RCARRIER 평균 걸이 수량은 {:.0f} ea 입니다\".format(RA))\n",
        "print(\"F/TCARRIER 평균 걸이 수량은 {:.0f} ea 입니다\".format(RB))\n",
        "print(\"CARRIER 평균 걸이 수량은 {:.0f} ea 입니다\".format(fa))\n"
      ],
      "execution_count": null,
      "outputs": []
    },
    {
      "cell_type": "code",
      "metadata": {
        "id": "6t1IobkHsKbe"
      },
      "source": [
        "a=empty.loc[(empty[\"투입수량\"]>1) & (empty['품명']==\"R/RHSG\")]\n",
        "b=empty.loc[(empty[\"투입수량\"]>1) & (empty['품명']==\"F/THSG\")]\n",
        "\n",
        "A=a[\"투입수량\"].sum()\n",
        "B=b[\"투입수량\"].sum()\n",
        "\n",
        "data={\"e\":[1,2],\n",
        "      \"f\":[A,B]}\n",
        "dt = pd.DataFrame(data)\n",
        "fc=dt[\"f\"].mean()\n",
        "print(\"R/HOUSING 평균 걸이 수량은 {:.0f} ea 입니다\".format(A))\n",
        "print(\"F/THOUSING 평균 걸이 수량은 {:.0f} ea 입니다\".format(B))\n",
        "print(\"HOUSIG 평균 걸이 수량은 {:.0f} ea 입니다\".format(fc))"
      ],
      "execution_count": null,
      "outputs": []
    },
    {
      "cell_type": "markdown",
      "metadata": {
        "id": "XzYa4tsxaCwL"
      },
      "source": [
        "생산량(결품포함)"
      ]
    },
    {
      "cell_type": "code",
      "metadata": {
        "id": "VFAn2R1T6ZtA"
      },
      "source": [
        "product=df[\"투입수량\"].sum()\n",
        "print(\"생산량:{}\".format(product))"
      ],
      "execution_count": null,
      "outputs": []
    },
    {
      "cell_type": "markdown",
      "metadata": {
        "id": "Cheu0lxdaK58"
      },
      "source": [
        "결품발생"
      ]
    },
    {
      "cell_type": "code",
      "metadata": {
        "id": "vXcnU8dXFsvG"
      },
      "source": [
        "np=(df[\"투입수량\"]<=1).sum()\n",
        "print(\"결품발생횟수는:{}회 입니다\".format(np))"
      ],
      "execution_count": null,
      "outputs": []
    },
    {
      "cell_type": "markdown",
      "metadata": {
        "id": "-XP4dvm8acrB"
      },
      "source": [
        "CARR 결품 발생수,결품 수량"
      ]
    },
    {
      "cell_type": "code",
      "metadata": {
        "id": "-HO90QPc7Gtq"
      },
      "source": [
        "c=df['차종']==\"NOCARRN\"\n",
        "c=c.sum()\n",
        "d=fa*c\n",
        "print(\"CARR 결품발생: {}회 입니다\".format(c))\n",
        "print(\"결품 수량은: {:.0f} ea 입니다\".format(d))"
      ],
      "execution_count": null,
      "outputs": []
    },
    {
      "cell_type": "markdown",
      "metadata": {
        "id": "61czRtJwAALG"
      },
      "source": [
        "HOUSING 결품 발생수,결품수량"
      ]
    },
    {
      "cell_type": "code",
      "metadata": {
        "id": "uBz7KzANM82x"
      },
      "source": [
        "h=df['차종']==\"NOHSGN\"\n",
        "h=h.sum()\n",
        "hf=fc*h\n",
        "print(\"HSG 결품발생: {}회 입니다\".format(h))\n",
        "print(\"HSG 결품수량은: {:.0f} ea 입니다\".format(hf))"
      ],
      "execution_count": null,
      "outputs": []
    },
    {
      "cell_type": "markdown",
      "metadata": {
        "id": "KTu-O8e5mm7t"
      },
      "source": [
        "#===== 총생산량"
      ]
    },
    {
      "cell_type": "code",
      "metadata": {
        "id": "PbOZtqw5mmnM"
      },
      "source": [
        "total = product - np\n",
        "print(\"총생산량은: {}ea 입니다\".format(total))"
      ],
      "execution_count": null,
      "outputs": []
    },
    {
      "cell_type": "markdown",
      "metadata": {
        "id": "-GE_3uWWavUI"
      },
      "source": [
        "R/R HOUSING (생산량,점유률)"
      ]
    },
    {
      "cell_type": "code",
      "metadata": {
        "id": "uJLijh437_WJ"
      },
      "source": [
        "RH = df.groupby(\"품명\").get_group(\"R/RHSG\")\n",
        "RH=RH[\"투입수량\"].sum()\n",
        "RHper=df[\"품명\"].value_counts(normalize=True).loc[\"R/RHSG\"]*100\n",
        "# Faulty = RRH/RH *100\n",
        "print(\"R/R HOUSING 생산량은: {} ea 입니다\".format(RH))\n",
        "print(\"R/R HOUSING 생산점유률은 : {:.2f} % 입니다\".format(RHper))\n",
        "# print(\"R/R HOUSING 불량률은 : {} % 입니다\".format(Faulty))"
      ],
      "execution_count": null,
      "outputs": []
    },
    {
      "cell_type": "markdown",
      "metadata": {
        "id": "U8fE-7ce-f_u"
      },
      "source": [
        "F/T HOUSING (생산량 , 점유률)"
      ]
    },
    {
      "cell_type": "code",
      "metadata": {
        "id": "nFql_s2U-cJz"
      },
      "source": [
        "FH = df.groupby(\"품명\").get_group(\"F/THSG\")\n",
        "FH = FH[\"투입수량\"].sum()\n",
        "FHper = df[\"품명\"].value_counts(normalize=True).loc[\"F/THSG\"]*100\n",
        "# Faulty = FTH/RH *100\n",
        "print(\"F/H HOUSING 생산량은: {} ea 입니다\".format(FH))\n",
        "print(\"F/T HOUSING 생산점유률은 : {:.2f} % 입니다\".format(FHper))\n",
        "# print(\"F/T HOUSING 불량률은 : {} % 입니다\".format(Faulty))"
      ],
      "execution_count": null,
      "outputs": []
    },
    {
      "cell_type": "markdown",
      "metadata": {
        "id": "MXnFBptV_Iwb"
      },
      "source": [
        "Total.HOUSING (생산량 , 점유률)"
      ]
    },
    {
      "cell_type": "code",
      "metadata": {
        "id": "JSfiH9oZ_CKd"
      },
      "source": [
        "Tohsg = (RH + FH)-h\n",
        "Hpr = RHper + FHper\n",
        "# Faulty = (RRH + FTH) / Tohsg *100\n",
        "print(\"HOUSING 총생산량은: {} ea 입니다\".format(Tohsg))\n",
        "print(\"HOUSING 생산점유률은 : {:.2f} % 입니다\".format(Hpr))\n",
        "# print(\"HOUSING 불량률은 : {} % 입니다\".format(Faulty))\n"
      ],
      "execution_count": null,
      "outputs": []
    },
    {
      "cell_type": "markdown",
      "metadata": {
        "id": "LaDSsnnVEfAq"
      },
      "source": [
        "R/R CARRIER (생산량,점유률)"
      ]
    },
    {
      "cell_type": "code",
      "metadata": {
        "id": "f6BdrG8Tbl3P"
      },
      "source": [
        "RC = df.groupby(\"품명\").get_group(\"R/RCARR\")\n",
        "RC=RC['투입수량'].sum()\n",
        "Rcper=df[\"품명\"].value_counts(normalize=True).loc[\"R/RCARR\"]*100\n",
        "print(\"R/R CARRIER 생산량은: {} ea 입니다\".format(RC))\n",
        "print(\"R/R CARRIER 생산점유률은 : {:.2f} % 입니다\".format(Rcper))\n",
        "# print(\"R/R CARRIER 불량률은 : {} % 입니다\".format(Faulty))"
      ],
      "execution_count": null,
      "outputs": []
    },
    {
      "cell_type": "markdown",
      "metadata": {
        "id": "4Ar9LhSS2L7w"
      },
      "source": [
        "F/T CARRIER (생산량,점유률)"
      ]
    },
    {
      "cell_type": "code",
      "metadata": {
        "id": "TuJkXD-G2Jvm"
      },
      "source": [
        "FC = df.groupby(\"품명\").get_group(\"F/TCARR\")\n",
        "FC = FC[\"투입수량\"].sum()\n",
        "FCper =df[\"품명\"].value_counts(normalize=True).loc[\"F/TCARR\"]*100\n",
        "# Faulty = FTC/FC *100\n",
        "print(\"F/T CARRIER 생산량은: {} ea 입니다\".format(FC))\n",
        "print(\"F/T CARRIER 생산점유률은 : {:.2f} % 입니다\".format(FCper))\n",
        "# print(\"F/T CARRIER 불량률은 : {} % 입니다\".format(Faulty))"
      ],
      "execution_count": null,
      "outputs": []
    },
    {
      "cell_type": "markdown",
      "metadata": {
        "id": "6EBZzIjyJDzm"
      },
      "source": [
        "Total.CARRIER (생산량 , 점유률)"
      ]
    },
    {
      "cell_type": "code",
      "metadata": {
        "id": "TGi8mJwtJB-w"
      },
      "source": [
        "Tocar = (RC + FC)-c\n",
        "Cpr = Rcper + FCper\n",
        "print(\"CARRIER 총생산량은: {} ea 입니다\".format(Tocar))\n",
        "print(\"CARRIER 생산점유률은 : {:.2f} % 입니다\".format(Cpr))"
      ],
      "execution_count": null,
      "outputs": []
    },
    {
      "cell_type": "markdown",
      "metadata": {
        "id": "MCMrm0ycHBXl"
      },
      "source": [
        "# 불량 파일"
      ]
    },
    {
      "cell_type": "code",
      "metadata": {
        "id": "4mSxR3kX_gVH"
      },
      "source": [
        "df[\"생산로트\"].fillna(\"없음\",inplace=True)\n",
        "lot=df.loc[(df[\"생산로트\"]==\"없음\") & (df[\"투입수량\"]>1)]\n",
        "lot.to_excel(\"1.xlsx\")\n",
        "df=pd.read_excel(\"1.xlsx\")\n",
        "df[[\"차종\",\"품명\",\"생산로트\",\"투입수량\"]]"
      ],
      "execution_count": null,
      "outputs": []
    },
    {
      "cell_type": "code",
      "metadata": {
        "id": "hMCZjF9C3jf4"
      },
      "source": [
        "c=df.groupby(\"차종\")[\"품명\",\"투입수량\"].sum()   \n",
        "c.to_excel(\"산포도.xlsx\")\n",
        "sf=pd.read_excel(\"/content/산포도.xlsx\")\n",
        "sf\n",
        "# c.sum() "
      ],
      "execution_count": null,
      "outputs": []
    },
    {
      "cell_type": "code",
      "metadata": {
        "id": "GMmeAIvIU2Vo"
      },
      "source": [
        "c=df['차종']\n",
        "c"
      ],
      "execution_count": null,
      "outputs": []
    },
    {
      "cell_type": "markdown",
      "metadata": {
        "id": "Irv_UJWtWZFc"
      },
      "source": [
        "R/R  CARRIER 불량"
      ]
    },
    {
      "cell_type": "code",
      "metadata": {
        "id": "1GmQinrSWUNF"
      },
      "source": [
        "lot = df.loc[(df['품명']==\"R/RCARR\") & (df[\"투입수량\"]>1)]\n",
        "RRC=lot[\"투입수량\"].sum()\n",
        "RcFaulty = RRC/RC *100\n",
        "print(\"R/R CARRIER 불량수량은 : {} ea 입니다\".format(RRC))\n",
        "print(\"R/R CARRIER 불량률은 : {:.2f} % 입니다\".format(RcFaulty))"
      ],
      "execution_count": null,
      "outputs": []
    },
    {
      "cell_type": "code",
      "metadata": {
        "id": "M_RUYNmv27Po"
      },
      "source": [
        "# lot = df.loc[(df['품명']==\"F/THSG\") & (df[\"투입수량\"]>1)]\n",
        "# lot[\"투입수량\"].sum()"
      ],
      "execution_count": null,
      "outputs": []
    },
    {
      "cell_type": "markdown",
      "metadata": {
        "id": "fGpoqhdM9laE"
      },
      "source": [
        "F/T   CARRIER 불량"
      ]
    },
    {
      "cell_type": "code",
      "metadata": {
        "id": "6oU7Gv67B5gQ"
      },
      "source": [
        "lot = df.loc[(df['품명']==\"F/TCARR\") & (df[\"투입수량\"]>1)]\n",
        "FTC=lot[\"투입수량\"].sum()\n",
        "FcFaulty = FTC/FC *100\n",
        "print(\"F/T CARR 불량수량은 : {} ea 입니다\".format(FTC))\n",
        "print(\"F/T CARRIER 불량률은 : {:.2f} % 입니다\".format(FcFaulty))"
      ],
      "execution_count": null,
      "outputs": []
    },
    {
      "cell_type": "markdown",
      "metadata": {
        "id": "7uKcpLJUp7kJ"
      },
      "source": [
        "#===== Total.CARRIER  (생산량,불량수량,불량률)"
      ]
    },
    {
      "cell_type": "code",
      "metadata": {
        "id": "JPGUvxOyqm6O"
      },
      "source": [
        "CarFault = RRC + FTC\n",
        "CarFaulty = CarFault/Tocar * 100\n",
        "print(\"CARRIER 총생산량은: {} ea 입니다\".format(Tocar))\n",
        "print(\"CARRIER 전체 불량수량은:{} ea 입니다\".format(CarFault))\n",
        "print(\"R/R CARRIER 불량률은 : {:.2f} % 입니다\".format(RcFaulty))\n",
        "print(\"F/T CARRIER 불량률은 : {:.2f} % 입니다\".format(FcFaulty))\n",
        "print(\"CARRIER 전체 불량률은:{:.2f} % 입니다\".format(CarFaulty))"
      ],
      "execution_count": null,
      "outputs": []
    },
    {
      "cell_type": "markdown",
      "metadata": {
        "id": "QxLWCCFYGMQl"
      },
      "source": [
        "R/R HOUSING 불량"
      ]
    },
    {
      "cell_type": "code",
      "metadata": {
        "id": "NPikP9L1CgQQ"
      },
      "source": [
        "lot = df.loc[(df['품명']==\"R/RHSG\") & (df[\"투입수량\"]>1)]\n",
        "RRH =lot[\"투입수량\"].sum()\n",
        "RhFaulty = RRH/RH *100\n",
        "print(\"R/R HOUSING 불량수량은 : {} ea 입니다\".format(RRH))\n",
        "print(\"R/R HOUSING 불량률은 : {:.2f} % 입니다\".format(RhFaulty))"
      ],
      "execution_count": null,
      "outputs": []
    },
    {
      "cell_type": "markdown",
      "metadata": {
        "id": "QlgtUNy-P75s"
      },
      "source": [
        "F/T HOUSING 불량\n"
      ]
    },
    {
      "cell_type": "code",
      "metadata": {
        "id": "34eOte8jCgvq"
      },
      "source": [
        "lot = df.loc[(df['품명']==\"F/THSG\") & (df[\"투입수량\"]>1)]\n",
        "FTH=lot[\"투입수량\"].sum()\n",
        "FhFaulty = FTH/FH *100\n",
        "print(\"F/T HOUSING 불량수량은 : {} ea 입니다\".format(FTH))\n",
        "print(\"F/T HOUSING 불량률은 : {:.2f} % 입니다\".format(FhFaulty))"
      ],
      "execution_count": null,
      "outputs": []
    },
    {
      "cell_type": "markdown",
      "metadata": {
        "id": "BRO9C8q2vmUx"
      },
      "source": [
        "# =====Total HOUSING  (생산량,불량수량,불량률)"
      ]
    },
    {
      "cell_type": "code",
      "metadata": {
        "id": "t_uGdJjrtw0X"
      },
      "source": [
        "HouFault = RRH + FTH\n",
        "HouFaulty = HouFault/Tohsg *100\n",
        "print(\"HOUSING 총생산량은: {} ea 입니다\".format(Tohsg))\n",
        "print(\"HOUSING 전체 불량수량은:{} ea 입니다\".format(HouFault))\n",
        "print(\"R/R HOUSING 불량률은 : {:.2f} % 입니다\".format(RhFaulty))\n",
        "print(\"F/T HOUSING 불량률은 : {:.2f} % 입니다\".format(FhFaulty))\n",
        "print(\"HOUSING 전체 불량률은:{} ea 입니다\".format(HouFaulty))"
      ],
      "execution_count": null,
      "outputs": []
    },
    {
      "cell_type": "code",
      "metadata": {
        "id": "UUYibyo0U5QV"
      },
      "source": [
        "TotalFault = HouFault+CarFault\n",
        "Totalper=((HouFault+CarFault)/total) * 100\n",
        "\n",
        "print(\"전체 불량수량은 {} ea 입니다\".format(TotalFault))\n",
        "print(\"전체 불량률은{:.2f} % 입니다\".format(Totalper))"
      ],
      "execution_count": null,
      "outputs": []
    },
    {
      "cell_type": "code",
      "metadata": {
        "id": "2_3MgPEJQ48C"
      },
      "source": [
        "# 한글 폰트 설정\n",
        "!sudo apt-get install -y fonts-nanum\n",
        "!sudo fc-cache -fv\n",
        "!rm ~/.cache/matplotlib -rf"
      ],
      "execution_count": null,
      "outputs": []
    },
    {
      "cell_type": "code",
      "metadata": {
        "id": "_JPtB2LAQ_p8"
      },
      "source": [
        "import matplotlib.pyplot as plt\n",
        "plt.rc('font', family='NanumBarunGothic')\n",
        "\n",
        "%matplotlib inline\n",
        "plt.rcParams['axes.unicode_minus'] = False"
      ],
      "execution_count": null,
      "outputs": []
    },
    {
      "cell_type": "code",
      "metadata": {
        "id": "IPrIIrnQTD1T"
      },
      "source": [
        "data={\"이름\":[\"하우징\",\"케리어\"],\n",
        "      \"생산수량\":[Tohsg,Tocar],\n",
        "      \"불량수량\":[HouFault,CarFault],\n",
        "      \"걸이작업\":[fc,fa],\n",
        "      \"불량률\":[HouFaulty,CarFaulty]\n",
        "      }\n",
        "gp=pd.DataFrame(data)\n",
        "gp     "
      ],
      "execution_count": null,
      "outputs": []
    },
    {
      "cell_type": "code",
      "metadata": {
        "id": "Kd6oZ2WZRhWr"
      },
      "source": [
        "plt.figure(figsize=(10,6))\n",
        "bar=plt.bar(gp[\"이름\"],gp[\"생산수량\"],width=0.2)\n",
        "values=[Tohsg,Tocar ]\n",
        "# colors=[\"g\",\"b\"]\n",
        "plt.title(\"생산량\",fontsize=20)\n",
        "# bar=plt.bar(gp[\"이름\"],gp[\"수량\"],alpha=0.5,width=0.2)\n",
        "for idx, rect in enumerate(bar):\n",
        "   plt.text(idx,rect.get_height()+200,values[idx],ha=\"center\",color=\"b\",fontsize=13)\n",
        "plt.show()"
      ],
      "execution_count": null,
      "outputs": []
    },
    {
      "cell_type": "code",
      "metadata": {
        "id": "b8ypsjYS0A89"
      },
      "source": [
        "bar=plt.bar(gp[\"이름\"],gp[\"불량수량\"],width=0.25)\n",
        "values=[HouFault,CarFault]\n",
        "for idx, rect in enumerate(bar):\n",
        "   plt.text(idx,rect.get_height(),values[idx],ha=\"center\",fontsize=15)"
      ],
      "execution_count": null,
      "outputs": []
    },
    {
      "cell_type": "code",
      "metadata": {
        "id": "Cp97Q2g6bO0m"
      },
      "source": [
        "import numpy as np\n",
        "gp.shape"
      ],
      "execution_count": null,
      "outputs": []
    },
    {
      "cell_type": "code",
      "metadata": {
        "id": "vDcmcWhrzUnT"
      },
      "source": [
        "N=gp.shape[0]"
      ],
      "execution_count": null,
      "outputs": []
    },
    {
      "cell_type": "code",
      "metadata": {
        "id": "tAd7f6x1bCVm"
      },
      "source": [
        "index = np.arange(N)\n",
        "index"
      ],
      "execution_count": null,
      "outputs": []
    },
    {
      "cell_type": "code",
      "metadata": {
        "id": "cME7VKzEbde2"
      },
      "source": [
        "w=0.25\n",
        "plt.figure(figsize=(10,5))\n",
        "bar=plt.bar(index-w,gp[\"불량수량\"],width=0.7,label=\"불량수량\")\n",
        "bar1=plt.bar(index,gp[\"걸이작업\"],width=0.5,label=\"걸이작업\")\n",
        "values=[HouFault,CarFault]\n",
        "for idx, rect in enumerate(bar):\n",
        "   plt.text(idx,rect.get_height(),values[idx],ha=\"center\",fontsize=15)\n",
        "values1=[fc,fa]  \n",
        "for idx1, rect1 in enumerate(bar1):\n",
        "   plt.text(idx1,rect1.get_height(),values1[idx1],ha=\"center\",fontsize=13)  \n",
        "# plt.bar(index+w,gp[\"불량수량\"])\n",
        "plt.xticks(index,gp[\"이름\"],fontsize=15)\n",
        "plt.legend(ncol=2,fontsize=15,loc=\"center\")"
      ],
      "execution_count": null,
      "outputs": []
    },
    {
      "cell_type": "code",
      "metadata": {
        "id": "sf8jArOJULNg"
      },
      "source": [
        "plt.figure(figsize=(12,5))\n",
        "values=[RHper,FHper,Rcper,FCper]\n",
        "labels=[\"R/RHUS\",\"F/THUS\",\"R/RCAR\",\"F/TCAR\"]\n",
        "\n",
        "explode=[0.01]*4\n",
        "wedgeprops={\"width\":0.6,\"edgecolor\":\"w\",\"linewidth\":2}\n",
        "plt.pie(values,labels=labels,autopct=\"%.1f%%\",explode=explode,wedgeprops=wedgeprops,pctdistance=0.7)\n",
        "plt.legend(loc=(1.2,0.3),title=\"생산점유률\",fontsize=13)\n",
        "plt.show()\n"
      ],
      "execution_count": null,
      "outputs": []
    },
    {
      "cell_type": "code",
      "metadata": {
        "id": "IYPtthP8fnzk"
      },
      "source": [
        "values=[Rcper,FCper,RcFaulty,FcFaulty]\n",
        "labels=[\"R/RCAR점유률\",\"F/TCAR점유률\",\"R/RCAR불량률\",\"F/TCAR불량률\"]\n",
        "plt.figure(figsize=(12,5))\n",
        "# explode=[0.01]*4\n",
        "wedgeprops={\"width\":0.6,\"edgecolor\":\"w\",\"linewidth\":2}\n",
        "plt.pie(values,labels=labels,autopct=\"%.1f%%\",wedgeprops=wedgeprops,pctdistance=0.7)\n",
        "plt.legend(loc=(1.2,0.3),title=\"생산점유률&불량률\",fontsize=15)\n",
        "plt.show()"
      ],
      "execution_count": null,
      "outputs": []
    },
    {
      "cell_type": "code",
      "metadata": {
        "id": "gCOwrmW_Yh6Q"
      },
      "source": [
        "plt.figure(figsize=(10,5))\n",
        "values=[fa,CarFaulty]\n",
        "labels=[\"평균수량\",\"불량률\"]\n",
        "colors=[\"g\",\"r\"]\n",
        "plt.title(\"걸이&불량률\")\n",
        "bar=plt.bar(labels,values,color=colors)\n",
        "for idx, rect in enumerate(bar):\n",
        "   plt.text(idx,rect.get_height(),values[idx],ha=\"center\",fontsize=13)\n",
        "plt.legend(title=\"걸이&불량률\",loc=(0.8,0.8),fontsize=15)   \n",
        "plt.savefig(\"걸이&불량률.jpg\")   "
      ],
      "execution_count": null,
      "outputs": []
    },
    {
      "cell_type": "code",
      "metadata": {
        "id": "J_isfMpMCl_B"
      },
      "source": [
        "values=[RA,RB]\n",
        "lables=[\"R/R량\",\"F/T량\"]\n",
        "bar=plt.bar(lables,values,color=\"g\")\n",
        "plt.title(\"걸이수량\",fontsize=15)\n",
        "plt.ylim(40,120)\n",
        "for idx, rect in enumerate(bar):\n",
        "   plt.text(idx,rect.get_height()+5,values[idx],ha=\"center\",fontsize=15)"
      ],
      "execution_count": null,
      "outputs": []
    },
    {
      "cell_type": "code",
      "metadata": {
        "id": "3iqVPWtwPxR2"
      },
      "source": [
        "values=[RcFaulty,FcFaulty]\n",
        "lables=[\"R불량률\",\"F불량률\"]\n",
        "plt.ylim(0,10)\n",
        "plt.title(\"불량률\",fontsize=15)\n",
        "bar=plt.bar(lables,values,color=\"k\",alpha=0.5)\n",
        "for idx, rect in enumerate(bar):\n",
        "   plt.text(idx,rect.get_height()+0.5,values[idx],ha=\"center\",fontsize=15)"
      ],
      "execution_count": null,
      "outputs": []
    },
    {
      "cell_type": "code",
      "metadata": {
        "id": "DFhGj7Ca1nMa"
      },
      "source": [
        "import numpy as np\n",
        "sizes=np.random.rand(8) * 1000\n",
        "sizes"
      ],
      "execution_count": null,
      "outputs": []
    },
    {
      "cell_type": "code",
      "metadata": {
        "id": "T4wkLSle1tGU"
      },
      "source": [
        "plt.figure(figsize=(12,5))\n",
        "plt.scatter(sf['차종'],sf['투입수량'],sizes=sizes)\n",
        "plt.xlabel(\"차종\")\n",
        "plt.ylabel(\"투입수량\")"
      ],
      "execution_count": null,
      "outputs": []
    }
  ]
}