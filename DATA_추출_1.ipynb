{
  "nbformat": 4,
  "nbformat_minor": 0,
  "metadata": {
    "colab": {
      "name": "DATA_추출.1.ipynb",
      "private_outputs": true,
      "provenance": [],
      "mount_file_id": "1mgi394wAZ9t2A18k7tXd1XHEpIEScErL",
      "authorship_tag": "ABX9TyM7JSMywIKREooVuFUutK9h",
      "include_colab_link": true
    },
    "kernelspec": {
      "name": "python3",
      "display_name": "Python 3"
    },
    "language_info": {
      "name": "python"
    }
  },
  "cells": [
    {
      "cell_type": "markdown",
      "metadata": {
        "id": "view-in-github",
        "colab_type": "text"
      },
      "source": [
        "<a href=\"https://colab.research.google.com/github/kimsongdae/project_1/blob/master/DATA_%EC%B6%94%EC%B6%9C_1.ipynb\" target=\"_parent\"><img src=\"https://colab.research.google.com/assets/colab-badge.svg\" alt=\"Open In Colab\"/></a>"
      ]
    },
    {
      "cell_type": "code",
      "metadata": {
        "id": "sSu8U8K5ZN_u"
      },
      "source": [
        "import pandas as pd"
      ],
      "execution_count": null,
      "outputs": []
    },
    {
      "cell_type": "code",
      "metadata": {
        "id": "P3VaR2IMZdq_"
      },
      "source": [
        "df=pd.read_excel(\"/content/2021년11월02일.xlsx\",usecols=\"A:G\")\n",
        "df"
      ],
      "execution_count": null,
      "outputs": []
    },
    {
      "cell_type": "code",
      "metadata": {
        "id": "YKpz0pwNjzZe"
      },
      "source": [
        "df['차종'].unique()"
      ],
      "execution_count": null,
      "outputs": []
    },
    {
      "cell_type": "markdown",
      "metadata": {
        "id": "O2CPpjOeZe8B"
      },
      "source": [
        "캐리어 데이터 가져오기"
      ]
    },
    {
      "cell_type": "code",
      "metadata": {
        "id": "kM4VKKyRZihC"
      },
      "source": [
        "car=df[\"품명\"].str.contains(\"CAR\",na=False)\n",
        "df[car]\n",
        "df[car].to_excel(\"7,8번케리어data.xlsx\")\n",
        "df=pd.read_excel(\"7,8번케리어data.xlsx\",usecols=\"B,C:I\")\n",
        "df"
      ],
      "execution_count": null,
      "outputs": []
    },
    {
      "cell_type": "markdown",
      "metadata": {
        "id": "Uv0Mg1DRc3Jz"
      },
      "source": [
        "7,8 번 탱크  테이터 가져오기"
      ]
    },
    {
      "cell_type": "code",
      "metadata": {
        "id": "rCL8NcAuc2Ox"
      },
      "source": [
        "filt=df['탱크'].str.contains(\"y\",na=False)\n",
        "df[filt][\"생산로트\"].fillna(\"없음\",inplace=True)"
      ],
      "execution_count": null,
      "outputs": []
    },
    {
      "cell_type": "code",
      "metadata": {
        "id": "fqmX2j-zfsJ2"
      },
      "source": [
        "df[filt][\"투입수량\"].sum()\n"
      ],
      "execution_count": null,
      "outputs": []
    },
    {
      "cell_type": "code",
      "metadata": {
        "id": "VbwBWfCEjje5"
      },
      "source": [
        "df[filt]"
      ],
      "execution_count": null,
      "outputs": []
    },
    {
      "cell_type": "markdown",
      "metadata": {
        "id": "amF3Lmst3MJO"
      },
      "source": [
        "전압값 가져오기"
      ]
    },
    {
      "cell_type": "code",
      "metadata": {
        "id": "a_0Xaqt-2QIQ"
      },
      "source": [
        "v=df[filt].groupby(\"품명\").mean()\n",
        "v.to_excel(\"7,8전압.xlsx\")"
      ],
      "execution_count": null,
      "outputs": []
    },
    {
      "cell_type": "code",
      "metadata": {
        "id": "1rgCLerA27F1"
      },
      "source": [
        "vp=pd.read_excel(\"7,8전압.xlsx\")\n",
        "vp"
      ],
      "execution_count": null,
      "outputs": []
    },
    {
      "cell_type": "code",
      "metadata": {
        "id": "XQqkUGN33gR0"
      },
      "source": [
        "vp1=vp.iloc[0,2]"
      ],
      "execution_count": null,
      "outputs": []
    },
    {
      "cell_type": "code",
      "metadata": {
        "id": "g_kjT6qO33Kp"
      },
      "source": [
        "vp2=vp.iloc[1,2]\n",
        "vp2"
      ],
      "execution_count": null,
      "outputs": []
    },
    {
      "cell_type": "code",
      "metadata": {
        "id": "hA99660oBPKS"
      },
      "source": [
        "df10=df[filt]\n",
        "r=df10\n",
        "r.to_excel(\"7,8번케리어data.xlsx\")\n",
        "df10=pd.read_excel(\"7,8번케리어data.xlsx\")\n",
        "df10['불량수량'].fillna(\"없음\",inplace=True)\n",
        "df10"
      ],
      "execution_count": null,
      "outputs": []
    },
    {
      "cell_type": "code",
      "metadata": {
        "id": "9gMyn6-RLAp4"
      },
      "source": [
        ""
      ],
      "execution_count": null,
      "outputs": []
    },
    {
      "cell_type": "markdown",
      "metadata": {
        "id": "yLtkUTeWM4Cw"
      },
      "source": [
        "7,8번 탱크 불량 데이터 가져오기"
      ]
    },
    {
      "cell_type": "code",
      "metadata": {
        "id": "S9Im5Tk9L-m_"
      },
      "source": [
        "nf=df10.loc[(df10[\"불량수량\"]!=\"없음\") & (df10[\"투입수량\"]>=1)]\n",
        "nf.to_excel(\"7,8번 불량data.xlsx\")"
      ],
      "execution_count": null,
      "outputs": []
    },
    {
      "cell_type": "code",
      "metadata": {
        "id": "Pz2vz_W5W2cF"
      },
      "source": [
        "df1=pd.read_excel(\"7,8번 불량data.xlsx\")\n",
        "df1"
      ],
      "execution_count": null,
      "outputs": []
    },
    {
      "cell_type": "code",
      "metadata": {
        "id": "Y90wkvM0RZEc"
      },
      "source": [
        "df1.groupby(\"차종\")[[\"품명\",\"불량수량\"]].sum()"
      ],
      "execution_count": null,
      "outputs": []
    },
    {
      "cell_type": "markdown",
      "metadata": {
        "id": "KGtIAGCnfOa_"
      },
      "source": [
        "(7,8)불량수량"
      ]
    },
    {
      "cell_type": "code",
      "metadata": {
        "id": "fUz1nwtwfMZ_"
      },
      "source": [
        "ng=df1.groupby(\"차종\")[[\"품명\",\"불량수량\"]].sum()\n",
        "ng.to_excel(\"7,8번제품별 불량수량.xlsx\")"
      ],
      "execution_count": null,
      "outputs": []
    },
    {
      "cell_type": "code",
      "metadata": {
        "id": "RzUsOENgf6Xz"
      },
      "source": [
        "df3=pd.read_excel(\"7,8번제품별 불량수량.xlsx\")\n",
        "df3"
      ],
      "execution_count": null,
      "outputs": []
    },
    {
      "cell_type": "code",
      "metadata": {
        "id": "b3rqjwoEd5eT"
      },
      "source": [
        "# G1XX=df3.iloc[0,1]\n",
        "# G1XX=(G1XX/생산수량) * 100\n",
        "# G1XX"
      ],
      "execution_count": null,
      "outputs": []
    },
    {
      "cell_type": "code",
      "metadata": {
        "id": "VFDsP1QKg-rk"
      },
      "source": [
        "# df3.iloc[1,1]"
      ],
      "execution_count": null,
      "outputs": []
    },
    {
      "cell_type": "code",
      "metadata": {
        "id": "7n5gP4GwZcNs"
      },
      "source": [
        "# 제품=df1.groupby([\"품명\",\"차종\"])\n"
      ],
      "execution_count": null,
      "outputs": []
    },
    {
      "cell_type": "code",
      "metadata": {
        "id": "yFPKYduLqxuc"
      },
      "source": [
        "# 제품[\"불량수량\"].value_counts()"
      ],
      "execution_count": null,
      "outputs": []
    },
    {
      "cell_type": "code",
      "metadata": {
        "id": "p2UDD9LbZ9E6"
      },
      "source": [
        "# 제품[\"불량수량\"].value_counts(normalize=True)"
      ],
      "execution_count": null,
      "outputs": []
    },
    {
      "cell_type": "code",
      "metadata": {
        "id": "mm7JU8eDbRW8"
      },
      "source": [
        "# 제품[\"불량수량\"].value_counts(normalize=True).loc[\"F/TCARR\"]"
      ],
      "execution_count": null,
      "outputs": []
    },
    {
      "cell_type": "code",
      "metadata": {
        "id": "hEV7-FzrcjVV"
      },
      "source": [
        "# 제품[\"차종\"].value_counts(normalize=True).loc[\"R/RCARR\"]"
      ],
      "execution_count": null,
      "outputs": []
    },
    {
      "cell_type": "code",
      "metadata": {
        "id": "odh4cfG5cYOd"
      },
      "source": [
        "# 제품[\"차종\"].value_counts().loc[\"F/TCARR\"]"
      ],
      "execution_count": null,
      "outputs": []
    },
    {
      "cell_type": "code",
      "metadata": {
        "id": "_Sb7sV0Tx1K1"
      },
      "source": [
        "df1.groupby(\"차종\")[[\"투입수량\",\"아연전압\"]].mean()"
      ],
      "execution_count": null,
      "outputs": []
    },
    {
      "cell_type": "markdown",
      "metadata": {
        "id": "j0s4MGxMil_W"
      },
      "source": [
        "결품 "
      ]
    },
    {
      "cell_type": "code",
      "metadata": {
        "id": "2OBRiI5FglIn"
      },
      "source": [
        "a=df[filt][\"품명\"]==\"CARR\"\n",
        "np=a.sum()\n",
        "np"
      ],
      "execution_count": null,
      "outputs": []
    },
    {
      "cell_type": "code",
      "metadata": {
        "id": "sjrUrDnIbYDc"
      },
      "source": [
        ""
      ],
      "execution_count": null,
      "outputs": []
    },
    {
      "cell_type": "markdown",
      "metadata": {
        "id": "SDy31PpXAdRR"
      },
      "source": [
        "## =====7,8 번 탱크 생산량,불량률(렉 자국)====="
      ]
    },
    {
      "cell_type": "code",
      "metadata": {
        "id": "dupedFVkWr9O"
      },
      "source": [
        "생산량=df[filt][\"투입수량\"].sum() \n",
        "생산수량=생산량-np\n",
        "불량수량=df['불량수량'].sum()\n",
        "불량률= (불량수량 / 생산수량) * 100\n",
        "print(\"7,8번 탱크 생산량은 {} ea 입니다\".format(생산수량))\n",
        "print(\"7,8번 탱크 불량수량은 {} ea 입니다\".format(불량수량))\n",
        "print(\"7,8번 탱크 불량률은 {:.2f} % 입니다\".format(불량률))"
      ],
      "execution_count": null,
      "outputs": []
    },
    {
      "cell_type": "code",
      "metadata": {
        "id": "cquz0KmuLouc"
      },
      "source": [
        ""
      ],
      "execution_count": null,
      "outputs": []
    },
    {
      "cell_type": "markdown",
      "metadata": {
        "id": "mq3qlzFBPF23"
      },
      "source": [
        "## 1,6 데이터 가져오기"
      ]
    },
    {
      "cell_type": "code",
      "metadata": {
        "id": "4IB-dLrbWZS-"
      },
      "source": [
        "df=pd.read_excel(\"/content/2021년11월02일.xlsx\",usecols=\"A:G\")\n",
        "df.fillna(\"없음\",inplace=True)"
      ],
      "execution_count": null,
      "outputs": []
    },
    {
      "cell_type": "markdown",
      "metadata": {
        "id": "6Ms8BebCaYTn"
      },
      "source": [
        "케리어 테이터 가져오기"
      ]
    },
    {
      "cell_type": "code",
      "metadata": {
        "id": "XRLNRz7RPFCG"
      },
      "source": [
        "cu=df['품명'].str.contains(\"CAR\",na=False)\n",
        "\n",
        "df[cu].to_excel(\"1_6모든data.xlsx\")\n",
        "sus=df[\"탱크\"].fillna(\"no\",inplace=True)\n",
        "sus=df[\"불량수량\"].fillna(0,inplace=True)\n",
        "\n",
        "df[cu].to_excel(\"캐리어data.xlsx\")"
      ],
      "execution_count": null,
      "outputs": []
    },
    {
      "cell_type": "code",
      "metadata": {
        "id": "i3t5AIXxToLa"
      },
      "source": [
        "df4=pd.read_excel(\"캐리어data.xlsx\",usecols=\"B:H\")\n",
        "df4"
      ],
      "execution_count": null,
      "outputs": []
    },
    {
      "cell_type": "markdown",
      "metadata": {
        "id": "EKfOvFAGhQ8i"
      },
      "source": [
        "1~6번 캐리어 데이터 가져오기"
      ]
    },
    {
      "cell_type": "code",
      "metadata": {
        "id": "XH-pgzYO_P2X"
      },
      "source": [
        "g=df4.loc[(df4[\"투입수량\"]>=1) &  (df4[\"탱크\"]==\"없음\")]\n",
        "g.to_excel(\"1~6번 캐리어data.xlsx\")\n",
        "df5=pd.read_excel(\"1~6번 캐리어data.xlsx\")"
      ],
      "execution_count": null,
      "outputs": []
    },
    {
      "cell_type": "code",
      "metadata": {
        "id": "afqVRzJKDzm-"
      },
      "source": [
        "df5"
      ],
      "execution_count": null,
      "outputs": []
    },
    {
      "cell_type": "code",
      "metadata": {
        "id": "21fmNbM4mtfw"
      },
      "source": [
        "df5['생산로트'].unique()"
      ],
      "execution_count": null,
      "outputs": []
    },
    {
      "cell_type": "code",
      "metadata": {
        "id": "eRi6mDnPm_5y"
      },
      "source": [
        "df5['차종'].unique()"
      ],
      "execution_count": null,
      "outputs": []
    },
    {
      "cell_type": "markdown",
      "metadata": {
        "id": "HPo6s66TAMWB"
      },
      "source": [
        "결품 데이터"
      ]
    },
    {
      "cell_type": "code",
      "metadata": {
        "id": "-4QSda0Vb4LN"
      },
      "source": [
        "d1=(df5[\"차종\"]==\"NOCARRN\")\n",
        "\n",
        "c1=d1.sum()\n",
        "c1"
      ],
      "execution_count": null,
      "outputs": []
    },
    {
      "cell_type": "markdown",
      "metadata": {
        "id": "p7dCx6W3j3aN"
      },
      "source": [
        "결품 제외 데이터"
      ]
    },
    {
      "cell_type": "code",
      "metadata": {
        "id": "IJDz0YaZvAxf"
      },
      "source": [
        "sus=df5[~d1]"
      ],
      "execution_count": null,
      "outputs": []
    },
    {
      "cell_type": "code",
      "metadata": {
        "id": "t8c4Ph776fTk"
      },
      "source": [
        "sus.to_excel(\"1~6정상data.xlsx\")\n"
      ],
      "execution_count": null,
      "outputs": []
    },
    {
      "cell_type": "markdown",
      "metadata": {
        "id": "Qve--Rcw00_e"
      },
      "source": [
        "1~6번 탱크 정상 data"
      ]
    },
    {
      "cell_type": "code",
      "metadata": {
        "id": "HygmJyJH7CmA"
      },
      "source": [
        "df6=pd.read_excel(\"1~6정상data.xlsx\",usecols=\"C:I\")\n",
        "\n",
        "df6"
      ],
      "execution_count": null,
      "outputs": []
    },
    {
      "cell_type": "code",
      "metadata": {
        "id": "qK4y020LmP5L"
      },
      "source": [
        "df6[\"생산로트\"].unique()"
      ],
      "execution_count": null,
      "outputs": []
    },
    {
      "cell_type": "markdown",
      "metadata": {
        "id": "Ka-LN0Ci4cFG"
      },
      "source": [
        "1~6번 전압값 가져오기"
      ]
    },
    {
      "cell_type": "code",
      "metadata": {
        "id": "xYR_mtLx4baE"
      },
      "source": [
        "w=df6.groupby(\"품명\").mean()\n",
        "w.to_excel(\"1~6전압.xlsx\")\n",
        "w"
      ],
      "execution_count": null,
      "outputs": []
    },
    {
      "cell_type": "code",
      "metadata": {
        "id": "ciQAG4pO5ETt"
      },
      "source": [
        "w=pd.read_excel(\"1~6전압.xlsx\")"
      ],
      "execution_count": null,
      "outputs": []
    },
    {
      "cell_type": "code",
      "metadata": {
        "id": "C3q1UaGe6kLZ"
      },
      "source": [
        "w"
      ],
      "execution_count": null,
      "outputs": []
    },
    {
      "cell_type": "code",
      "metadata": {
        "id": "pTkVB6DP6hWr"
      },
      "source": [
        "vp3=w.iloc[0,2]\n",
        "vp3"
      ],
      "execution_count": null,
      "outputs": []
    },
    {
      "cell_type": "code",
      "metadata": {
        "id": "X7KkiBLg6tKV"
      },
      "source": [
        "vp4=w.iloc[1,2]\n",
        "vp4"
      ],
      "execution_count": null,
      "outputs": []
    },
    {
      "cell_type": "code",
      "metadata": {
        "id": "J-VhmTWGktCe"
      },
      "source": [
        "df6"
      ],
      "execution_count": null,
      "outputs": []
    },
    {
      "cell_type": "markdown",
      "metadata": {
        "id": "oPkA2Qg1Q7Gi"
      },
      "source": [
        "1~6 불량 테이터"
      ]
    },
    {
      "cell_type": "code",
      "metadata": {
        "id": "hggDgMcMhzgW"
      },
      "source": [
        "df6[\"생산로트\"].fillna(\"no\",inplace=True)"
      ],
      "execution_count": null,
      "outputs": []
    },
    {
      "cell_type": "code",
      "metadata": {
        "id": "XGeFGdsLED9Q"
      },
      "source": [
        "e=df6.loc[(df6['투입수량']>=1) & (df6['생산로트']==\"없음\")]\n",
        "e.to_excel(\"1_6번 불량data.xlsx\")\n"
      ],
      "execution_count": null,
      "outputs": []
    },
    {
      "cell_type": "code",
      "metadata": {
        "id": "L4xoXvi4g4dH"
      },
      "source": [
        "df2=pd.read_excel(\"1_6번 불량data.xlsx\")\n",
        "df2"
      ],
      "execution_count": null,
      "outputs": []
    },
    {
      "cell_type": "code",
      "metadata": {
        "id": "XWe-J0qInlu6"
      },
      "source": [
        "ng2=df2.groupby(\"차종\")[[\"품명\",\"투입수량\"]].sum()\n",
        "ng2.to_excel(\"1,6번 제품별 불량수량.xlsx\")\n",
        "ng2"
      ],
      "execution_count": null,
      "outputs": []
    },
    {
      "cell_type": "code",
      "metadata": {
        "id": "UD3Hfnxhk7Qt"
      },
      "source": [
        ""
      ],
      "execution_count": null,
      "outputs": []
    },
    {
      "cell_type": "code",
      "metadata": {
        "id": "SqDN9LKklFG3"
      },
      "source": [
        "d=df2.groupby(\"차종\")[[\"품명\",\"투입수량\"]].sum()\n",
        "d=d[\"투입수량\"].sum()\n",
        "d"
      ],
      "execution_count": null,
      "outputs": []
    },
    {
      "cell_type": "markdown",
      "metadata": {
        "id": "83XoCs7m-a2G"
      },
      "source": [
        "## =====1~6 번 탱크 생산량,불량률====="
      ]
    },
    {
      "cell_type": "code",
      "metadata": {
        "id": "T-ZJlm9F-qGZ"
      },
      "source": [
        "생산량1=df6['투입수량'].sum() \n",
        "생산수량1=생산량1-c1\n",
        "불량률1 = ( d / 생산수량1) * 100\n",
        "print(\"1~6번 탱크 생산수량은 {} ea 입니다\".format(생산수량1))\n",
        "print(\"1~6번 탱크 불량수량은 {} ea 입니다\".format(d))\n",
        "print(\"1~6번 탱크 불량률은 {:.2f} % 입니다\".format(불량률1))"
      ],
      "execution_count": null,
      "outputs": []
    },
    {
      "cell_type": "code",
      "metadata": {
        "id": "RevVDTPHoXnd"
      },
      "source": [
        "# 한글 폰트 설정\n",
        "!sudo apt-get install -y fonts-nanum\n",
        "!sudo fc-cache -fv\n",
        "!rm ~/.cache/matplotlib -rf"
      ],
      "execution_count": null,
      "outputs": []
    },
    {
      "cell_type": "code",
      "metadata": {
        "id": "_zi0EsIOoaUj"
      },
      "source": [
        "import matplotlib.pyplot as plt\n",
        "plt.rc('font', family='NanumBarunGothic')\n",
        "\n",
        "%matplotlib inline\n",
        "plt.rcParams['axes.unicode_minus'] = False\n",
        "plt.rcParams[\"font.size\"]=13"
      ],
      "execution_count": null,
      "outputs": []
    },
    {
      "cell_type": "code",
      "metadata": {
        "id": "fConOBhyoe6L"
      },
      "source": [
        "data={\"탱크\":[\"7,8번\",\"1~6번\"],\n",
        "      \"생산수량\":[생산수량1,생산수량],\n",
        "      \"불량수량\":[d,불량수량],\n",
        "      \"불량률\":[불량률1,불량률],\n",
        "      \"F/T전압\":[vp1,vp3],\n",
        "      \"R/R전압\":[vp2,vp4]    \n",
        "                     }\n",
        "df7 = pd.DataFrame(data) \n",
        "df7               "
      ],
      "execution_count": null,
      "outputs": []
    },
    {
      "cell_type": "code",
      "metadata": {
        "id": "OOIry0-yr23n"
      },
      "source": [
        "plt.bar(df7[\"탱크\"],df7[\"불량률\"])"
      ],
      "execution_count": null,
      "outputs": []
    }
  ]
}